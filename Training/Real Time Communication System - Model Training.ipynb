{
 "cells": [
  {
   "cell_type": "markdown",
   "id": "659ba033",
   "metadata": {},
   "source": [
    "# Image Preprocessing"
   ]
  },
  {
   "cell_type": "code",
   "execution_count": 1,
   "id": "233c0ffc",
   "metadata": {},
   "outputs": [],
   "source": [
    "# Importing Libraries\n",
    "\n",
    "from tensorflow.keras.preprocessing.image import ImageDataGenerator"
   ]
  },
  {
   "cell_type": "code",
   "execution_count": 2,
   "id": "9025b545",
   "metadata": {},
   "outputs": [],
   "source": [
    "# Image Augmentation\n",
    "\n",
    "train_datagen = ImageDataGenerator(rescale = 1./255, shear_range = 0.2, zoom_range = 0.2, horizontal_flip = True)\n",
    "test_datagen = ImageDataGenerator(rescale = 1./255)"
   ]
  },
  {
   "cell_type": "code",
   "execution_count": 3,
   "id": "0c862f6f",
   "metadata": {},
   "outputs": [
    {
     "name": "stdout",
     "output_type": "stream",
     "text": [
      "Found 15750 images belonging to 9 classes.\n",
      "Found 2250 images belonging to 9 classes.\n"
     ]
    }
   ],
   "source": [
    "# Loading train and test set\n",
    "\n",
    "X_train = train_datagen.flow_from_directory(r\"C:\\Users\\shiva\\Downloads\\real time communications\\real time communications\\Dataset\\training_set\", target_size = (64, 64), batch_size = 32, class_mode = 'categorical')\n",
    "X_test = test_datagen.flow_from_directory(r\"C:\\Users\\shiva\\Downloads\\real time communications\\real time communications\\Dataset\\test_set\", target_size = (64, 64), batch_size = 32, class_mode = 'categorical')"
   ]
  },
  {
   "cell_type": "code",
   "execution_count": 4,
   "id": "8f9a8b85",
   "metadata": {},
   "outputs": [
    {
     "data": {
      "text/plain": [
       "{'A': 0, 'B': 1, 'C': 2, 'D': 3, 'E': 4, 'F': 5, 'G': 6, 'H': 7, 'I': 8}"
      ]
     },
     "execution_count": 4,
     "metadata": {},
     "output_type": "execute_result"
    }
   ],
   "source": [
    "# checking indices\n",
    "\n",
    "X_train.class_indices"
   ]
  },
  {
   "cell_type": "markdown",
   "id": "46015d36",
   "metadata": {},
   "source": [
    "# Model Building"
   ]
  },
  {
   "cell_type": "code",
   "execution_count": 5,
   "id": "34553f83",
   "metadata": {},
   "outputs": [],
   "source": [
    "# Importing Libraries\n",
    "\n",
    "from tensorflow.keras.models import Sequential\n",
    "from tensorflow.keras.layers import Dense\n",
    "from tensorflow.keras.layers import Convolution2D, MaxPooling2D, Flatten"
   ]
  },
  {
   "cell_type": "code",
   "execution_count": 6,
   "id": "f4a960e0",
   "metadata": {},
   "outputs": [],
   "source": [
    "# Initializing the Model\n",
    "\n",
    "model = Sequential()"
   ]
  },
  {
   "cell_type": "code",
   "execution_count": 7,
   "id": "91767533",
   "metadata": {},
   "outputs": [],
   "source": [
    "# Adding Convolution Layer\n",
    "\n",
    "model.add(Convolution2D((32), (3,3), input_shape = (64, 64, 3), activation = 'relu'))"
   ]
  },
  {
   "cell_type": "code",
   "execution_count": 8,
   "id": "757d4e83",
   "metadata": {},
   "outputs": [],
   "source": [
    "# Adding Pooling Layer\n",
    "\n",
    "model.add(MaxPooling2D(pool_size = (2, 2)))"
   ]
  },
  {
   "cell_type": "code",
   "execution_count": 9,
   "id": "f6fafd32",
   "metadata": {},
   "outputs": [],
   "source": [
    "# Adding Flatten Layer\n",
    "\n",
    "model.add(Flatten())"
   ]
  },
  {
   "cell_type": "code",
   "execution_count": 10,
   "id": "16873b74",
   "metadata": {},
   "outputs": [],
   "source": [
    "# Adding Hidden Layer\n",
    "\n",
    "model.add(Dense(units = 512, kernel_initializer = 'random_uniform', activation = 'relu'))"
   ]
  },
  {
   "cell_type": "code",
   "execution_count": 11,
   "id": "d9f19dea",
   "metadata": {},
   "outputs": [],
   "source": [
    "# Adding Output Layer\n",
    "\n",
    "model.add(Dense(units = 9, kernel_initializer = 'random_uniform', activation = 'softmax'))"
   ]
  },
  {
   "cell_type": "code",
   "execution_count": 12,
   "id": "a19923fe",
   "metadata": {},
   "outputs": [],
   "source": [
    "# Compile the model\n",
    "\n",
    "model.compile(loss = 'categorical_crossentropy', optimizer = 'adam', metrics = ['accuracy'])"
   ]
  },
  {
   "cell_type": "code",
   "execution_count": 13,
   "id": "5e877d47",
   "metadata": {},
   "outputs": [
    {
     "name": "stdout",
     "output_type": "stream",
     "text": [
      "Epoch 1/10\n",
      "24/24 [==============================] - 6s 219ms/step - loss: 1.4599 - accuracy: 0.5469 - val_loss: 0.5981 - val_accuracy: 0.8406\n",
      "Epoch 2/10\n",
      "24/24 [==============================] - 5s 224ms/step - loss: 0.4523 - accuracy: 0.8555 - val_loss: 0.4918 - val_accuracy: 0.8984\n",
      "Epoch 3/10\n",
      "24/24 [==============================] - 5s 200ms/step - loss: 0.2731 - accuracy: 0.9271 - val_loss: 0.4464 - val_accuracy: 0.8977\n",
      "Epoch 4/10\n",
      "24/24 [==============================] - 5s 200ms/step - loss: 0.2642 - accuracy: 0.9180 - val_loss: 0.4157 - val_accuracy: 0.9203\n",
      "Epoch 5/10\n",
      "24/24 [==============================] - 5s 191ms/step - loss: 0.2434 - accuracy: 0.9206 - val_loss: 0.2446 - val_accuracy: 0.9344\n",
      "Epoch 6/10\n",
      "24/24 [==============================] - 5s 202ms/step - loss: 0.1544 - accuracy: 0.9492 - val_loss: 0.2630 - val_accuracy: 0.9242\n",
      "Epoch 7/10\n",
      "24/24 [==============================] - 5s 189ms/step - loss: 0.1234 - accuracy: 0.9674 - val_loss: 0.2152 - val_accuracy: 0.9609\n",
      "Epoch 8/10\n",
      "24/24 [==============================] - 5s 197ms/step - loss: 0.1326 - accuracy: 0.9609 - val_loss: 0.2554 - val_accuracy: 0.9617\n",
      "Epoch 9/10\n",
      "24/24 [==============================] - 5s 207ms/step - loss: 0.0740 - accuracy: 0.9805 - val_loss: 0.3356 - val_accuracy: 0.9539\n",
      "Epoch 10/10\n",
      "24/24 [==============================] - 5s 202ms/step - loss: 0.0702 - accuracy: 0.9844 - val_loss: 0.3340 - val_accuracy: 0.9438\n"
     ]
    },
    {
     "data": {
      "text/plain": [
       "<keras.callbacks.History at 0x212719ab130>"
      ]
     },
     "execution_count": 13,
     "metadata": {},
     "output_type": "execute_result"
    }
   ],
   "source": [
    "# Fiiting the model\n",
    "\n",
    "model.fit(X_train, steps_per_epoch = 24, epochs = 10, validation_data = X_test, validation_steps = 40)"
   ]
  },
  {
   "cell_type": "code",
   "execution_count": 14,
   "id": "be5efb4d",
   "metadata": {},
   "outputs": [],
   "source": [
    "# Saving the model\n",
    "\n",
    "model.save('aslpng1.h5')"
   ]
  }
 ],
 "metadata": {
  "kernelspec": {
   "display_name": "Python 3 (ipykernel)",
   "language": "python",
   "name": "python3"
  },
  "language_info": {
   "codemirror_mode": {
    "name": "ipython",
    "version": 3
   },
   "file_extension": ".py",
   "mimetype": "text/x-python",
   "name": "python",
   "nbconvert_exporter": "python",
   "pygments_lexer": "ipython3",
   "version": "3.9.13"
  }
 },
 "nbformat": 4,
 "nbformat_minor": 5
}
